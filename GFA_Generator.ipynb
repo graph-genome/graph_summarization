{
 "cells": [
  {
   "cell_type": "code",
   "execution_count": 74,
   "metadata": {
    "collapsed": false
   },
   "outputs": [
    {
     "name": "stdout",
     "output_type": "stream",
     "text": [
      "H\tVN:Z:1.0\n",
      "S\t1\tTTTT\n",
      "S\t2\tAGTCGCAT\n",
      "S\t3\tGTTG\n",
      "S\t4\tCCTA\n",
      "P\t7\t3-,4+,3+,3+\t*,*,*,*\n",
      "P\t8\t3+,2+,4-,3+\t*,*,*,*\n",
      "P\t9\t3+,3+,1+,2+\t*,*,*,*\n",
      "P\t10\t2+,1-,1+,2+\t*,*,*,*\n",
      "P\t11\t1-,1+,3+,2+\t*,*,*,*\n",
      "L\t1\t+\t3\t+\t0M\n",
      "L\t4\t+\t3\t+\t0M\n",
      "L\t1\t-\t1\t+\t0M\n",
      "L\t3\t-\t4\t+\t0M\n",
      "L\t3\t+\t2\t+\t0M\n",
      "L\t3\t+\t3\t+\t0M\n",
      "L\t1\t+\t2\t+\t0M\n",
      "L\t3\t+\t1\t+\t0M\n",
      "L\t4\t-\t3\t+\t0M\n",
      "L\t2\t+\t1\t-\t0M\n",
      "L\t2\t+\t4\t-\t0M\n",
      "11 Edges\n"
     ]
    }
   ],
   "source": [
    "from random import choice, randint\n",
    "\n",
    "\n",
    "def generate_random_gfa(rows = 5, printer=print, stranded=True):\n",
    "    printer('H\tVN:Z:1.0')\n",
    "    printer(\"\"\"S\t1\tTTTT\n",
    "S\t2\tAGTCGCAT\n",
    "S\t3\tGTTG\n",
    "S\t4\tCCTA\"\"\")\n",
    "\n",
    "    nodes = ['1', '2', '3', '4']\n",
    "    chance = 10 if stranded else 0\n",
    "    paths = []\n",
    "    for path in range(rows):\n",
    "        length = 4\n",
    "        my_path = [choice(nodes) + ('+' if randint(0,chance) != 9 else '-') for i in range(length)]\n",
    "        # for step in range(4):\n",
    "        paths.append(my_path)\n",
    "\n",
    "    links = set()\n",
    "    for y, p in enumerate(paths):\n",
    "        for i in range(len(p)-1):\n",
    "            links.add('L\\t'+p[i][:-1]+'\\t'+p[i][-1:]+'\\t'+p[i+1][:-1]+'\\t'+p[i+1][-1:]+'\\t0M')\n",
    "\n",
    "        printer('\\t'.join(['P', str(7+y), ','.join([n for n in p]), ','.join('*'*len(p))]))\n",
    "\n",
    "    for l in links:\n",
    "        printer(l)\n",
    "    print(len(links), \"Edges\")\n",
    "generate_random_gfa()"
   ]
  },
  {
   "cell_type": "code",
   "execution_count": 75,
   "metadata": {
    "collapsed": true
   },
   "outputs": [],
   "source": [
    "def write_gfa(size, stranded=True):\n",
    "    mark = '_stranded' if stranded else '_no_inversions'\n",
    "    name = r'D:\\josiah\\Documents\\1001G\\Graph_Genome_Browser\\scalability_test\\second_batch\\\\' + str(size) + '_paths'+mark+'.gfa'\n",
    "    with open(name, 'w') as f:\n",
    "        lines = []\n",
    "        generate_random_gfa(size, lines.append, stranded)\n",
    "        f.write('\\n'.join(lines))"
   ]
  },
  {
   "cell_type": "code",
   "execution_count": 77,
   "metadata": {
    "collapsed": false
   },
   "outputs": [
    {
     "name": "stdout",
     "output_type": "stream",
     "text": [
      "16 Edges\n"
     ]
    }
   ],
   "source": [
    "write_gfa(10)"
   ]
  },
  {
   "cell_type": "code",
   "execution_count": 78,
   "metadata": {
    "collapsed": false
   },
   "outputs": [
    {
     "name": "stdout",
     "output_type": "stream",
     "text": [
      "28 Edges\n"
     ]
    }
   ],
   "source": [
    "write_gfa(20)"
   ]
  },
  {
   "cell_type": "code",
   "execution_count": 79,
   "metadata": {
    "collapsed": false
   },
   "outputs": [
    {
     "name": "stdout",
     "output_type": "stream",
     "text": [
      "45 Edges\n"
     ]
    }
   ],
   "source": [
    "write_gfa(100)"
   ]
  },
  {
   "cell_type": "code",
   "execution_count": 80,
   "metadata": {
    "collapsed": false
   },
   "outputs": [
    {
     "name": "stdout",
     "output_type": "stream",
     "text": [
      "61 Edges\n"
     ]
    }
   ],
   "source": [
    "write_gfa(1000)"
   ]
  },
  {
   "cell_type": "code",
   "execution_count": 81,
   "metadata": {
    "collapsed": false
   },
   "outputs": [
    {
     "name": "stdout",
     "output_type": "stream",
     "text": [
      "14 Edges\n"
     ]
    }
   ],
   "source": [
    "write_gfa(10, False)"
   ]
  },
  {
   "cell_type": "code",
   "execution_count": 82,
   "metadata": {
    "collapsed": false
   },
   "outputs": [
    {
     "name": "stdout",
     "output_type": "stream",
     "text": [
      "15 Edges\n"
     ]
    }
   ],
   "source": [
    "write_gfa(20, False)"
   ]
  },
  {
   "cell_type": "code",
   "execution_count": 83,
   "metadata": {
    "collapsed": false
   },
   "outputs": [
    {
     "name": "stdout",
     "output_type": "stream",
     "text": [
      "16 Edges\n"
     ]
    }
   ],
   "source": [
    "write_gfa(100, False)"
   ]
  },
  {
   "cell_type": "code",
   "execution_count": 84,
   "metadata": {
    "collapsed": false
   },
   "outputs": [
    {
     "name": "stdout",
     "output_type": "stream",
     "text": [
      "16 Edges\n"
     ]
    }
   ],
   "source": [
    "write_gfa(1000, False)"
   ]
  },
  {
   "cell_type": "code",
   "execution_count": 20,
   "metadata": {
    "collapsed": false
   },
   "outputs": [],
   "source": [
    "import gfapy\n",
    "g1 = gfapy.Gfa.from_file(r'D:\\josiah\\Documents\\1001G\\Graph_Genome_Browser\\scalability_test\\5_node_1000_paths.gfa')"
   ]
  },
  {
   "cell_type": "code",
   "execution_count": 30,
   "metadata": {
    "collapsed": false
   },
   "outputs": [
    {
     "data": {
      "text/plain": [
       "0"
      ]
     },
     "execution_count": 30,
     "metadata": {},
     "output_type": "execute_result"
    }
   ],
   "source": [
    "from random import choice, randint\n",
    "randint(0,0)"
   ]
  },
  {
   "cell_type": "code",
   "execution_count": null,
   "metadata": {
    "collapsed": true
   },
   "outputs": [],
   "source": []
  }
 ],
 "metadata": {
  "kernelspec": {
   "display_name": "Python 3",
   "language": "python",
   "name": "python3"
  },
  "pycharm": {
   "stem_cell": {
    "cell_type": "raw",
    "metadata": {
     "collapsed": false
    },
    "source": []
   }
  }
 },
 "nbformat": 4,
 "nbformat_minor": 0
}
