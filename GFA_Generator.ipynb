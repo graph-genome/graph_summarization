{
 "cells": [
  {
   "cell_type": "code",
   "execution_count": 42,
   "metadata": {
    "collapsed": false
   },
   "outputs": [
    {
     "name": "stdout",
     "output_type": "stream",
     "text": [
      "H\tVN:Z:1.0\n",
      "S\t1\tTTTT\n",
      "S\t2\tAGTCGCAT\n",
      "S\t3\tGTTG\n",
      "S\t4\tCCTA\n",
      "P\t7\t2+,2+,4+,4+\t*,*,*,*\n",
      "P\t8\t4+,1+,2+,2+\t*,*,*,*\n",
      "P\t9\t1+,4+,4+,3+\t*,*,*,*\n",
      "P\t10\t3+,1+,4+,4+\t*,*,*,*\n",
      "P\t11\t2+,3+,4+,2+\t*,*,*,*\n",
      "L\t1\t+\t2\t+\t0M\n",
      "L\t2\t+\t3\t+\t0M\n",
      "L\t2\t+\t4\t+\t0M\n",
      "L\t2\t+\t2\t+\t0M\n",
      "L\t4\t+\t3\t+\t0M\n",
      "L\t4\t+\t4\t+\t0M\n",
      "L\t4\t+\t1\t+\t0M\n",
      "L\t3\t+\t4\t+\t0M\n",
      "L\t1\t+\t4\t+\t0M\n",
      "L\t3\t+\t1\t+\t0M\n",
      "L\t4\t+\t2\t+\t0M\n"
     ]
    }
   ],
   "source": [
    "from random import choice\n",
    "\n",
    "\n",
    "def generate_random_gfa(size = 5, printer=print):\n",
    "    printer('H\tVN:Z:1.0')\n",
    "    printer(\"\"\"S\t1\tTTTT\n",
    "S\t2\tAGTCGCAT\n",
    "S\t3\tGTTG\n",
    "S\t4\tCCTA\"\"\")\n",
    "\n",
    "    nodes = ['1', '2', '3', '4']\n",
    "\n",
    "    paths = []\n",
    "    for path in range(size):\n",
    "        my_path = [choice(nodes) for i in range(4)]\n",
    "        # for step in range(4):\n",
    "        paths.append(my_path)\n",
    "\n",
    "    links = set()\n",
    "    for y, p in enumerate(paths):\n",
    "        for i in range(len(p)-1):\n",
    "            links.add('L\\t'+p[i]+'\\t+\\t'+p[i+1]+'\\t+\\t0M')\n",
    "\n",
    "        printer('\\t'.join(['P', str(7+y), ','.join([n+'+' for n in p]), ','.join('*'*len(p))]))\n",
    "\n",
    "    for l in links:\n",
    "        printer(l)\n",
    "generate_random_gfa()"
   ]
  },
  {
   "cell_type": "code",
   "execution_count": 44,
   "metadata": {
    "collapsed": true
   },
   "outputs": [],
   "source": [
    "def write_gfa(size):\n",
    "    name = r'D:\\josiah\\Documents\\1001G\\Graph_Genome_Browser\\scalability_test\\4_node_' + str(size) + '_paths.gfa'\n",
    "    with open(name, 'w') as f:\n",
    "        lines = []\n",
    "        generate_random_gfa(size, lines.append)\n",
    "        f.write('\\n'.join(lines))"
   ]
  },
  {
   "cell_type": "code",
   "execution_count": 46,
   "metadata": {
    "collapsed": false
   },
   "outputs": [],
   "source": [
    "write_gfa(20)"
   ]
  },
  {
   "cell_type": "code",
   "execution_count": 47,
   "metadata": {
    "collapsed": true
   },
   "outputs": [],
   "source": [
    "write_gfa(100)"
   ]
  },
  {
   "cell_type": "code",
   "execution_count": 48,
   "metadata": {
    "collapsed": true
   },
   "outputs": [],
   "source": [
    "write_gfa(1000)"
   ]
  },
  {
   "cell_type": "code",
   "execution_count": 49,
   "metadata": {
    "collapsed": false
   },
   "outputs": [
    {
     "ename": "ImportError",
     "evalue": "No module named 'gfapy'",
     "output_type": "error",
     "traceback": [
      "\u001b[0;31m---------------------------------------------------------------------------\u001b[0m",
      "\u001b[0;31mImportError\u001b[0m                               Traceback (most recent call last)",
      "\u001b[0;32m<ipython-input-49-a876960ac561>\u001b[0m in \u001b[0;36m<module>\u001b[0;34m()\u001b[0m\n\u001b[0;32m----> 1\u001b[0;31m \u001b[1;32mimport\u001b[0m \u001b[0mgfapy\u001b[0m\u001b[1;33m\u001b[0m\u001b[0m\n\u001b[0m\u001b[1;32m      2\u001b[0m \u001b[0mg1\u001b[0m \u001b[1;33m=\u001b[0m \u001b[0mgfapy\u001b[0m\u001b[1;33m.\u001b[0m\u001b[0mGfa\u001b[0m\u001b[1;33m.\u001b[0m\u001b[0mfrom_file\u001b[0m\u001b[1;33m(\u001b[0m\u001b[1;34m\"4_node_1000_paths.gfa\"\u001b[0m\u001b[1;33m)\u001b[0m\u001b[1;33m\u001b[0m\u001b[0m\n\u001b[1;32m      3\u001b[0m \u001b[0mstr\u001b[0m\u001b[1;33m(\u001b[0m\u001b[0mg1\u001b[0m\u001b[1;33m)\u001b[0m\u001b[1;33m\u001b[0m\u001b[0m\n",
      "\u001b[0;31mImportError\u001b[0m: No module named 'gfapy'"
     ]
    }
   ],
   "source": [
    "import gfapy\n",
    "g1 = gfapy.Gfa.from_file(\"4_node_1000_paths.gfa\")\n",
    "str(g1)"
   ]
  },
  {
   "cell_type": "code",
   "execution_count": null,
   "metadata": {
    "collapsed": true
   },
   "outputs": [],
   "source": []
  }
 ],
 "metadata": {
  "kernelspec": {
   "display_name": "Python 3",
   "language": "python",
   "name": "python3"
  },
  "language_info": {
   "codemirror_mode": {
    "name": "ipython",
    "version": 3
   },
   "file_extension": ".py",
   "mimetype": "text/x-python",
   "name": "python",
   "nbconvert_exporter": "python",
   "pygments_lexer": "ipython3",
   "version": "3.4.3"
  },
  "pycharm": {
   "stem_cell": {
    "cell_type": "raw",
    "metadata": {
     "collapsed": false
    },
    "source": []
   }
  }
 },
 "nbformat": 4,
 "nbformat_minor": 0
}
