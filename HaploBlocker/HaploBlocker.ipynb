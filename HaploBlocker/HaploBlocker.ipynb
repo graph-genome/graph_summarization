{
 "cells": [
  {
   "cell_type": "code",
   "execution_count": 1,
   "metadata": {},
   "outputs": [],
   "source": [
    "import numpy as np\n",
    "from pandas import DataFrame, read_csv\n",
    "# read_csv()\n",
    "import os\n",
    "\n",
    "BLOCK_SIZE = 20"
   ]
  },
  {
   "cell_type": "code",
   "execution_count": 2,
   "metadata": {},
   "outputs": [],
   "source": [
    "from collections import namedtuple, defaultdict\n",
    "\n",
    "\n",
    "# Point = namedtuple('Point',['window', 'snp', 'bp'])\n",
    "\n",
    "class Point:\n",
    "    def __init__(self, snp, bp=0):\n",
    "        self.snp, self.bp = snp, bp\n",
    "    \n",
    "    @property\n",
    "    def window(self):\n",
    "        return self.snp // BLOCK_SIZE\n",
    "\n",
    "class Node:\n",
    "    def __init__(self, ident, start, end):\n",
    "        self.id = ident\n",
    "        self.start = start #Point()\n",
    "        self.end = end #Point()\n",
    "        self.upstream = defaultdict(lambda: 0)  # {nothing_node:501, Node: 38,  Node: 201, Node: 3}\n",
    "        self.downstream = defaultdict(lambda: 0) # {Node: 38,  Node: 201, Node: 3}\n",
    "        self.specimens = []\n",
    "    \n",
    "    def __len__(self):\n",
    "        return len(self.specimens)\n",
    "    \n",
    "    def __repr__(self):\n",
    "        return \"N%i(%i, %i)\" % (self.id, self.start.snp, self.end.snp)\n",
    "    \n",
    "    def __hash__(self):\n",
    "        return hash(self.id) + hash(self.start.snp) + hash(self.end.snp)\n",
    "\n",
    "a = Point(0)\n",
    "b = Point(14)\n",
    "str(Node(57, a, b))\n",
    "nothing_node = Node(-1, Point(None), Point(None))\n",
    "global_nodes = {0: nothing_node}\n"
   ]
  },
  {
   "cell_type": "code",
   "execution_count": 3,
   "metadata": {},
   "outputs": [],
   "source": [
    "def read_data(file_path = \"../test_data/KE_chromo10.txt\"):\n",
    "    \"\"\"Individuals are rows, not columns\"\"\"\n",
    "    loci = []\n",
    "    with open(file_path) as ke:\n",
    "        for line in ke.readlines():\n",
    "            loci.append(tuple(int(x) for x in line.split()))\n",
    "            \n",
    "    \n",
    "    individuals = np.array(loci).T.tolist()\n",
    "    return loci, individuals\n",
    "alleles, individuals = read_data()\n",
    "assert len(alleles) == 32767\n",
    "assert len(individuals[1]) == 32767\n",
    "assert len(individuals) == 501"
   ]
  },
  {
   "cell_type": "code",
   "execution_count": null,
   "metadata": {},
   "outputs": [],
   "source": []
  },
  {
   "cell_type": "code",
   "execution_count": 4,
   "metadata": {},
   "outputs": [
    {
     "data": {
      "text/plain": [
       "{(0, 2, 0, 0, 2, 0, 2, 0, 0, 0, 2, 0, 0, 0, 2, 2, 0, 0, 0, 0): N0(0, 0),\n",
       " (0, 0, 2, 2, 0, 2, 0, 2, 2, 2, 0, 2, 2, 2, 0, 0, 2, 2, 2, 2): N1(0, 0),\n",
       " (0, 0, 0, 0, 0, 0, 0, 0, 0, 0, 0, 0, 0, 0, 0, 0, 0, 0, 0, 0): N2(0, 0),\n",
       " (2, 0, 2, 2, 0, 2, 0, 2, 2, 2, 0, 2, 2, 2, 0, 0, 2, 2, 2, 2): N3(0, 0)}"
      ]
     },
     "execution_count": 4,
     "metadata": {},
     "output_type": "execute_result"
    }
   ],
   "source": [
    "def signature(individual, start_locus):\n",
    "    return tuple(individual[start_locus : start_locus + BLOCK_SIZE])\n",
    "\n",
    "def get_unique_signatures(individuals, start_locus, block_size = 20):\n",
    "    unique_blocks = {}\n",
    "    for individual in individuals:\n",
    "        sig = signature(individual, start_locus)\n",
    "        if sig not in unique_blocks:\n",
    "            unique_blocks[sig] = Node(len(unique_blocks), Point(start_locus // block_size, start_locus), \n",
    "                                      Point(start_locus // block_size, start_locus + BLOCK_SIZE)) #TODO: -1?\n",
    "    \n",
    "    return unique_blocks\n",
    "unique_blocks = get_unique_signatures(individuals, 0 )\n",
    "    \n",
    "assert len(unique_blocks) == 4\n",
    "unique_blocks\n",
    "# assert unique_blocks == {(0, 2, 0, 0, 2, 0, 2, 0, 0, 0, 2, 0, 0, 0, 2, 2, 0, 0, 0, 0): 0,\n",
    "#  (0, 0, 2, 2, 0, 2, 0, 2, 2, 2, 0, 2, 2, 2, 0, 0, 2, 2, 2, 2): 1,\n",
    "#  (0, 0, 0, 0, 0, 0, 0, 0, 0, 0, 0, 0, 0, 0, 0, 0, 0, 0, 0, 0): 2,\n",
    "#  (2, 0, 2, 2, 0, 2, 0, 2, 2, 2, 0, 2, 2, 2, 0, 0, 2, 2, 2, 2): 3}"
   ]
  },
  {
   "cell_type": "code",
   "execution_count": 5,
   "metadata": {},
   "outputs": [],
   "source": [
    "def get_all_signatures(alleles, individuals):\n",
    "    unique_signatures = []\n",
    "    for locus_start in range(0, len(alleles) - BLOCK_SIZE, BLOCK_SIZE):  # discards remainder \n",
    "        sig = get_unique_signatures(individuals, locus_start, BLOCK_SIZE)\n",
    "        unique_signatures.append(sig)\n",
    "    return unique_signatures\n",
    "unique_signatures = get_all_signatures(alleles, individuals)"
   ]
  },
  {
   "cell_type": "code",
   "execution_count": 6,
   "metadata": {},
   "outputs": [
    {
     "data": {
      "text/plain": [
       "{(0, 0, 0, 0, 2, 2, 0, 2, 0, 2, 2, 2, 2, 2, 2, 2, 0, 2, 0, 2): N0(21, 21),\n",
       " (0, 0, 2, 0, 2, 2, 0, 2, 0, 2, 2, 2, 2, 2, 2, 2, 0, 2, 0, 2): N1(21, 21),\n",
       " (0, 0, 0, 2, 2, 2, 0, 0, 0, 0, 0, 0, 0, 0, 0, 0, 0, 0, 0, 0): N2(21, 21),\n",
       " (0, 0, 0, 0, 0, 0, 0, 0, 0, 0, 0, 0, 0, 0, 0, 0, 0, 0, 0, 0): N3(21, 21),\n",
       " (0, 0, 0, 0, 2, 2, 0, 0, 0, 0, 0, 0, 0, 0, 0, 0, 0, 0, 0, 0): N4(21, 21),\n",
       " (0, 0, 0, 2, 2, 2, 0, 2, 0, 2, 2, 2, 2, 0, 0, 2, 0, 0, 0, 2): N5(21, 21),\n",
       " (0, 2, 0, 0, 0, 0, 0, 0, 0, 0, 0, 0, 0, 0, 0, 0, 0, 0, 0, 0): N6(21, 21),\n",
       " (0, 0, 0, 0, 2, 2, 0, 2, 2, 2, 2, 2, 2, 0, 0, 2, 0, 0, 2, 2): N7(21, 21)}"
      ]
     },
     "execution_count": 6,
     "metadata": {},
     "output_type": "execute_result"
    }
   ],
   "source": [
    "unique_signatures[21]"
   ]
  },
  {
   "cell_type": "code",
   "execution_count": 7,
   "metadata": {},
   "outputs": [
    {
     "name": "stdout",
     "output_type": "stream",
     "text": [
      "[N2(0, 0), N2(1, 1), N2(2, 2), N2(3, 3), N2(4, 4), N2(5, 5), N3(6, 6), N3(7, 7), N3(8, 8), N2(9, 9), N0(10, 10), N1(11, 11), N2(12, 12), N2(13, 13), N2(14, 14), N2(15, 15), N3(16, 16), N3(17, 17), N4(18, 18), N3(19, 19), N5(20, 20), N3(21, 21), N3(22, 22), N10(23, 23), N4(24, 24), N3(25, 25), N4(26, 26), N3(27, 27), N1(28, 28), N1(29, 29), N4(30, 30), N3(31, 31), N21(32, 32), N1(33, 33), N1(34, 34), N1(35, 35), N1(36, 36), N1(37, 37), N1(38, 38), N1(39, 39), N1(40, 40), N1(41, 41), N1(42, 42), N1(43, 43), N1(44, 44), N1(45, 45), N1(46, 46), N1(47, 47), N1(48, 48), N1(49, 49), N1(50, 50), N1(51, 51), N1(52, 52), N1(53, 53), N1(54, 54), N1(55, 55), N1(56, 56), N1(57, 57), N1(58, 58), N1(59, 59), N1(60, 60), N1(61, 61), N1(62, 62), N1(63, 63), N1(64, 64), N1(65, 65), N1(66, 66), N1(67, 67), N1(68, 68), N1(69, 69), N1(70, 70), N1(71, 71), N1(72, 72), N1(73, 73), N1(74, 74), N1(75, 75), N1(76, 76), N1(77, 77), N0(78, 78), N0(79, 79), N1(80, 80), N1(81, 81), N1(82, 82), N1(83, 83), N1(84, 84), N1(85, 85), N1(86, 86), N1(87, 87), N1(88, 88), N1(89, 89), N1(90, 90), N1(91, 91), N1(92, 92), N1(93, 93), N1(94, 94), N1(95, 95), N1(96, 96), N1(97, 97), N0(98, 98), N0(99, 99)]\n"
     ]
    },
    {
     "data": {
      "text/plain": [
       "(501, 1638)"
      ]
     },
     "execution_count": 7,
     "metadata": {},
     "output_type": "execute_result"
    }
   ],
   "source": [
    "def build_individuals(individuals, unique_signatures):\n",
    "    simplified_individuals = []\n",
    "    for i_specimen, specimen in enumerate(individuals):\n",
    "        my_simplification = []\n",
    "        for w, window in enumerate(unique_signatures):  # the length of the genome\n",
    "            sig = signature(specimen, w * BLOCK_SIZE)\n",
    "    #         print(sig, unique_signatures[w][sig])\n",
    "    #         print(i_specimen, window)\n",
    "            my_simplification.append(unique_signatures[w][sig])\n",
    "        simplified_individuals.append(my_simplification)\n",
    "    return simplified_individuals\n",
    "simplified_individuals = build_individuals(individuals, unique_signatures)\n",
    "print(simplified_individuals[500][:100])\n",
    "len(simplified_individuals), len(simplified_individuals[60])"
   ]
  },
  {
   "cell_type": "markdown",
   "metadata": {},
   "source": [
    "# Nodes: Populate upstream and downstream"
   ]
  },
  {
   "cell_type": "code",
   "execution_count": 8,
   "metadata": {},
   "outputs": [],
   "source": [
    "# build nodes:  first 4 are the 4 starting signatures in window 0.  \n",
    "# For each node list which individuals are present at that node\n",
    "# List transition rates from one node to all other upstream and downstream\n",
    "def populate_transitions(simplified_individuals):\n",
    "    for i, indiv in enumerate(simplified_individuals):\n",
    "        # look what variants are present\n",
    "        for x, node in enumerate(indiv):\n",
    "            node.specimens.append(indiv)\n",
    "            if x + 1 < len(indiv):\n",
    "                node.downstream[indiv[x+1]] += 1\n",
    "            else:\n",
    "                node.downstream[nothing_node] += 1\n",
    "            if x-1 >= 0:\n",
    "                node.upstream[indiv[x-1]] += 1\n",
    "            else: \n",
    "                node.upstream[nothing_node] += 1\n",
    "            "
   ]
  },
  {
   "cell_type": "code",
   "execution_count": 9,
   "metadata": {},
   "outputs": [],
   "source": [
    "unique_signatures = get_all_signatures(alleles, individuals)\n",
    "simplified_individuals = build_individuals(individuals, unique_signatures)\n",
    "populate_transitions(simplified_individuals)"
   ]
  },
  {
   "cell_type": "markdown",
   "metadata": {},
   "source": [
    "#### TODO: turn these into tests"
   ]
  },
  {
   "cell_type": "code",
   "execution_count": 10,
   "metadata": {
    "scrolled": true
   },
   "outputs": [
    {
     "data": {
      "text/plain": [
       "defaultdict(<function __main__.Node.__init__.<locals>.<lambda>()>,\n",
       "            {N1(1, 1): 286})"
      ]
     },
     "execution_count": 10,
     "metadata": {},
     "output_type": "execute_result"
    }
   ],
   "source": [
    "simplified_individuals[50][0].downstream"
   ]
  },
  {
   "cell_type": "code",
   "execution_count": 11,
   "metadata": {},
   "outputs": [
    {
     "data": {
      "text/plain": [
       "defaultdict(<function __main__.Node.__init__.<locals>.<lambda>()>,\n",
       "            {N0(1, 1): 103})"
      ]
     },
     "execution_count": 11,
     "metadata": {},
     "output_type": "execute_result"
    }
   ],
   "source": [
    "simplified_individuals[49][0].downstream"
   ]
  },
  {
   "cell_type": "code",
   "execution_count": 12,
   "metadata": {},
   "outputs": [
    {
     "data": {
      "text/plain": [
       "defaultdict(<function __main__.Node.__init__.<locals>.<lambda>()>,\n",
       "            {N2(1, 1): 82})"
      ]
     },
     "execution_count": 12,
     "metadata": {},
     "output_type": "execute_result"
    }
   ],
   "source": [
    "simplified_individuals[500][0].downstream"
   ]
  },
  {
   "cell_type": "code",
   "execution_count": 13,
   "metadata": {},
   "outputs": [
    {
     "data": {
      "text/plain": [
       "defaultdict(<function __main__.Node.__init__.<locals>.<lambda>()>,\n",
       "            {N1(1, 1): 30})"
      ]
     },
     "execution_count": 13,
     "metadata": {},
     "output_type": "execute_result"
    }
   ],
   "source": [
    "simplified_individuals[91][0].downstream"
   ]
  },
  {
   "cell_type": "code",
   "execution_count": 14,
   "metadata": {},
   "outputs": [
    {
     "data": {
      "text/plain": [
       "[dict_values([299]), dict_values([120]), dict_values([82])]"
      ]
     },
     "execution_count": 14,
     "metadata": {},
     "output_type": "execute_result"
    }
   ],
   "source": [
    "[x.downstream.values() for x in unique_signatures[1000].values()]"
   ]
  },
  {
   "cell_type": "code",
   "execution_count": 15,
   "metadata": {},
   "outputs": [
    {
     "data": {
      "text/plain": [
       "[dict_values([102, 197]), dict_values([120]), dict_values([82])]"
      ]
     },
     "execution_count": 15,
     "metadata": {},
     "output_type": "execute_result"
    }
   ],
   "source": [
    "[x.upstream.values() for x in unique_signatures[1000].values()]"
   ]
  },
  {
   "cell_type": "markdown",
   "metadata": {},
   "source": [
    "---------------"
   ]
  },
  {
   "cell_type": "markdown",
   "metadata": {},
   "source": [
    "# Simple Merge"
   ]
  },
  {
   "cell_type": "code",
   "execution_count": 16,
   "metadata": {},
   "outputs": [],
   "source": [
    "# TODO: add signature directly to node"
   ]
  },
  {
   "cell_type": "code",
   "execution_count": 17,
   "metadata": {},
   "outputs": [
    {
     "ename": "ModuleNotFoundError",
     "evalue": "No module named 'blist'",
     "output_type": "error",
     "traceback": [
      "\u001b[1;31m---------------------------------------------------------------------------\u001b[0m",
      "\u001b[1;31mModuleNotFoundError\u001b[0m                       Traceback (most recent call last)",
      "\u001b[1;32m<ipython-input-17-0985b5d5de28>\u001b[0m in \u001b[0;36m<module>\u001b[1;34m\u001b[0m\n\u001b[1;32m----> 1\u001b[1;33m \u001b[1;32mfrom\u001b[0m \u001b[0mblist\u001b[0m \u001b[1;32mimport\u001b[0m \u001b[0mblist\u001b[0m\u001b[1;33m\u001b[0m\u001b[1;33m\u001b[0m\u001b[0m\n\u001b[0m",
      "\u001b[1;31mModuleNotFoundError\u001b[0m: No module named 'blist'"
     ]
    }
   ],
   "source": [
    "from blist import blist"
   ]
  },
  {
   "cell_type": "code",
   "execution_count": null,
   "metadata": {},
   "outputs": [],
   "source": [
    "global_nodes = set([node for window in unique_signatures for node in window.values()])  # think about referencing and deletion\n",
    "assert len(global_nodes) == 7180"
   ]
  },
  {
   "cell_type": "code",
   "execution_count": null,
   "metadata": {},
   "outputs": [],
   "source": [
    "unique_nodes = set()\n",
    "for node in global_nodes:\n",
    "    if node in unique_nodes:\n",
    "        print(node)\n",
    "    else:\n",
    "        unique_nodes.add(node)\n"
   ]
  },
  {
   "cell_type": "code",
   "execution_count": null,
   "metadata": {},
   "outputs": [],
   "source": [
    "# zoom_stack = [[]]\n",
    "for n, node in enumerate(global_nodes):\n",
    "    print(node, type(node))\n",
    "    if len(node.downstream) == 1: \n",
    "        next_node = next(iter(node.downstream.keys()))\n",
    "        if len(node.specimens) == len(next_node.specimens):\n",
    "            #Torsten deletes nodeA and modifies next_node\n",
    "            next_node.upstream = node.upstream\n",
    "            next_node.start = node.start\n",
    "            #prepare to delete node by removing references\n",
    "            for parent in node.upstream.keys():\n",
    "                if parent != nothing_node:\n",
    "                    count = parent.downstream[node]\n",
    "                    del parent.downstream[node]  # updating pointer \n",
    "                    parent.downstream[next_node] = count \n",
    "            global_nodes.remove(node)  #delete node\n",
    "            # zoom_stack[0].append(merged)\n",
    "len(global_nodes)"
   ]
  },
  {
   "cell_type": "code",
   "execution_count": null,
   "metadata": {},
   "outputs": [],
   "source": [
    "unique_signatures[0]"
   ]
  },
  {
   "cell_type": "code",
   "execution_count": null,
   "metadata": {},
   "outputs": [],
   "source": []
  },
  {
   "cell_type": "code",
   "execution_count": null,
   "metadata": {},
   "outputs": [],
   "source": []
  },
  {
   "cell_type": "code",
   "execution_count": null,
   "metadata": {},
   "outputs": [],
   "source": []
  },
  {
   "cell_type": "code",
   "execution_count": null,
   "metadata": {},
   "outputs": [],
   "source": []
  },
  {
   "cell_type": "code",
   "execution_count": null,
   "metadata": {},
   "outputs": [],
   "source": []
  }
 ],
 "metadata": {
  "kernelspec": {
   "display_name": "Python 3",
   "language": "python",
   "name": "python3"
  },
  "language_info": {
   "codemirror_mode": {
    "name": "ipython",
    "version": 3
   },
   "file_extension": ".py",
   "mimetype": "text/x-python",
   "name": "python",
   "nbconvert_exporter": "python",
   "pygments_lexer": "ipython3",
   "version": "3.7.3"
  }
 },
 "nbformat": 4,
 "nbformat_minor": 2
}
